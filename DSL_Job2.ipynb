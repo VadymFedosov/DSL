{
  "nbformat": 4,
  "nbformat_minor": 0,
  "metadata": {
    "colab": {
      "name": "DSL_Job2.ipynb",
      "provenance": [],
      "authorship_tag": "ABX9TyONdNLWYK0uiTA6/BWxQ3hm",
      "include_colab_link": true
    },
    "kernelspec": {
      "name": "python3",
      "display_name": "Python 3"
    },
    "language_info": {
      "name": "python"
    }
  },
  "cells": [
    {
      "cell_type": "markdown",
      "metadata": {
        "id": "view-in-github",
        "colab_type": "text"
      },
      "source": [
        "<a href=\"https://colab.research.google.com/github/VadymFedosov/DSL/blob/main/DSL_Job2.ipynb\" target=\"_parent\"><img src=\"https://colab.research.google.com/assets/colab-badge.svg\" alt=\"Open In Colab\"/></a>"
      ]
    },
    {
      "cell_type": "code",
      "metadata": {
        "id": "kOu5HbmHacuh"
      },
      "source": [
        "def getOutsideNonTerminals(variables) -> set:\n",
        "    outsiderNonTerminals = set()\n",
        "    isValid = True\n",
        "  \n",
        "    while isValid:\n",
        "        isValid = False\n",
        "        for key, value in variables.items():\n",
        "          if key not in outsiderNonTerminals:\n",
        "            for rule in value:\n",
        "              if all(map(lambda symbol: symbol in variables or symbol in outsiderNonTerminals, rule)):\n",
        "                isValid = True\n",
        "                outsiderNonTerminals.add(key)\n",
        "                break\n",
        "    \n",
        "    return outsiderNonTerminals\n",
        "    \n",
        "def createNewDictionary(outsiderNonTerminals, variables) -> dict:\n",
        "    newVarsDictionary = dict()\n",
        "\n",
        "    for key, value in variables.items():\n",
        "        if key in outsiderNonTerminals:\n",
        "            newVarsDictionary[key] = value \n",
        "            \n",
        "    return newVarsDictionary\n",
        "\n",
        "def firstTask(grammar):\n",
        "  startSymbol = grammar['hvar']\n",
        "  tokens = grammar['tokens']\n",
        "  variables = grammar['vars']\n",
        "  \n",
        "  outsiderNonTerminals = getOutsideNonTerminals(variables)\n",
        "  newVarsDictionary = createNewDictionary(outsiderNonTerminals, variables)\n",
        "  \n",
        "  for key, value in newVarsDictionary.items():\n",
        "    tempList = list()\n",
        "    for rule in value:\n",
        "      if all(map(lambda symbol: symbol in variables or symbol in outsiderNonTerminals, rule)):\n",
        "        tempList.append(rule)\n",
        "    newVarsDictionary[key] = tempList\n",
        "\n",
        "  return {'tokens': tokens, 'vars': newVarsDictionary, 'hvar': startSymbol}"
      ],
      "execution_count": 1,
      "outputs": []
    },
    {
      "cell_type": "code",
      "metadata": {
        "id": "SSFLCDCjyt1z"
      },
      "source": [
        "def secondTask(grammar):\n",
        "    startSymbol = grammar['hvar']\n",
        "    tokens = grammar['tokens']\n",
        "    variables = grammar['vars']\n",
        "  \n",
        "    disappearingNonTerminals = set()\n",
        "  \n",
        "    isValid = True\n",
        "\n",
        "    while isValid:\n",
        "        isValid = False\n",
        "        for key, value in variables.items():\n",
        "          if key not in disappearingNonTerminals:\n",
        "            for rule in value:\n",
        "              if all(map(lambda symbol: symbol in disappearingNonTerminals, rule)): \n",
        "                isValid = True\n",
        "                disappearingNonTerminals.add(key)\n",
        "                break   \n",
        "\n",
        "    return disappearingNonTerminals"
      ],
      "execution_count": 1,
      "outputs": []
    }
  ]
}