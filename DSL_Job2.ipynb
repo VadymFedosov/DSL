{
  "nbformat": 4,
  "nbformat_minor": 0,
  "metadata": {
    "colab": {
      "name": "DSL_Job2.ipynb",
      "provenance": [],
      "authorship_tag": "ABX9TyOMSKIFE9mFVbGEJMYfK5eZ",
      "include_colab_link": true
    },
    "kernelspec": {
      "name": "python3",
      "display_name": "Python 3"
    },
    "language_info": {
      "name": "python"
    }
  },
  "cells": [
    {
      "cell_type": "markdown",
      "metadata": {
        "id": "view-in-github",
        "colab_type": "text"
      },
      "source": [
        "<a href=\"https://colab.research.google.com/github/VadymFedosov/DSL/blob/main/DSL_Job2.ipynb\" target=\"_parent\"><img src=\"https://colab.research.google.com/assets/colab-badge.svg\" alt=\"Open In Colab\"/></a>"
      ]
    },
    {
      "cell_type": "markdown",
      "metadata": {
        "id": "z0UnaI2DEA95"
      },
      "source": [
        "Implementation of task 1. Initially, a method is called that fills the set of non-third-party nonterminals. If the nonterminal does not yet exist and there is a rule that all characters are in the non-third-party nonterminal set, then the nonterminal is added to the set."
      ]
    },
    {
      "cell_type": "code",
      "metadata": {
        "id": "kOu5HbmHacuh"
      },
      "source": [
        "def getRightNonTerminals(variables) -> set:\n",
        "    rightNonTerminals = set()\n",
        "    isValid = True\n",
        "  \n",
        "    while isValid:\n",
        "        isValid = False\n",
        "        for key, value in variables.items():\n",
        "          if key not in rightNonTerminals:\n",
        "            for rule in value:\n",
        "              if all(map(lambda symbol: symbol in variables or symbol in rightNonTerminals, rule)):\n",
        "                isValid = True\n",
        "                rightNonTerminals.add(key)\n",
        "                break\n",
        "    \n",
        "    return rightNonTerminals\n",
        "    \n",
        "def createNewDictionary(rightNonTerminals, variables) -> dict:\n",
        "    newVarsDictionary = dict()\n",
        "\n",
        "    for key, value in variables.items():\n",
        "        if key in rightNonTerminals:\n",
        "            newVarsDictionary[key] = value \n",
        "            \n",
        "    return newVarsDictionary\n",
        "\n",
        "def firstTask(grammar):\n",
        "  startSymbol = grammar['hvar']\n",
        "  tokens = grammar['tokens']\n",
        "  variables = grammar['vars']\n",
        "  \n",
        "  rightNonTerminals = getRightNonTerminals(variables)\n",
        "  newVarsDictionary = createNewDictionary(rightNonTerminals, variables)\n",
        "  \n",
        "  for key, value in newVarsDictionary.items():\n",
        "    tempList = list()\n",
        "    for rule in value:\n",
        "      if all(map(lambda symbol: symbol in variables or symbol in rightNonTerminals, rule)):\n",
        "        tempList.append(rule)\n",
        "    newVarsDictionary[key] = tempList\n",
        "\n",
        "  return {'tokens': tokens, 'vars': newVarsDictionary, 'hvar': startSymbol}"
      ],
      "execution_count": null,
      "outputs": []
    },
    {
      "cell_type": "markdown",
      "metadata": {
        "id": "uJj631mo7hSQ"
      },
      "source": [
        "Implementation of the task 2.\n",
        "The set of disappearing nonterminals is filled in a loop. If the nonterminal does not yet exist and there is a rule that all characters are in the disappearing nonterminal set, then the nonterminal is added to the set."
      ]
    },
    {
      "cell_type": "code",
      "metadata": {
        "id": "SSFLCDCjyt1z"
      },
      "source": [
        "def secondTask(grammar):\n",
        "    startSymbol = grammar['hvar']\n",
        "    tokens = grammar['tokens']\n",
        "    variables = grammar['vars']\n",
        "  \n",
        "    disappearingNonTerminals = set()\n",
        "  \n",
        "    isValid = True\n",
        "\n",
        "    while isValid:\n",
        "        isValid = False\n",
        "        for key, value in variables.items():\n",
        "          if key not in disappearingNonTerminals:\n",
        "            for rule in value:\n",
        "              if all(map(lambda symbol: symbol in disappearingNonTerminals, rule)): \n",
        "                isValid = True\n",
        "                disappearingNonTerminals.add(key)\n",
        "                break   \n",
        "\n",
        "    return disappearingNonTerminals"
      ],
      "execution_count": null,
      "outputs": []
    }
  ]
}