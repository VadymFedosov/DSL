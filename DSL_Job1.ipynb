{
  "nbformat": 4,
  "nbformat_minor": 0,
  "metadata": {
    "colab": {
      "name": "DSL#1.ipynb",
      "provenance": [],
      "authorship_tag": "ABX9TyMAUc1JoxYcFSGY7CJOq22w",
      "include_colab_link": true
    },
    "kernelspec": {
      "name": "python3",
      "display_name": "Python 3"
    },
    "language_info": {
      "name": "python"
    }
  },
  "cells": [
    {
      "cell_type": "markdown",
      "metadata": {
        "id": "view-in-github",
        "colab_type": "text"
      },
      "source": [
        "<a href=\"https://colab.research.google.com/github/VadymFedosov/DSL/blob/main/DSL_Job1.ipynb\" target=\"_parent\"><img src=\"https://colab.research.google.com/assets/colab-badge.svg\" alt=\"Open In Colab\"/></a>"
      ]
    },
    {
      "cell_type": "markdown",
      "metadata": {
        "id": "rn71nJmH7zE7"
      },
      "source": [
        "The function splits the input text into rows.\n",
        "The function accepts a text string and set  of characters as input.\n",
        "First two variables are generated: resultList - a list of split rows to be returned from the function; row - single line of text;\n",
        "Each character of the text is checked for belonging to whitespaces.\n",
        "As a result, the function returns a list of text strings."
      ]
    },
    {
      "cell_type": "code",
      "metadata": {
        "id": "UZtUHEfN7PqR"
      },
      "source": [
        "def func(text: str, whitespaces: set) -> list:\n",
        "    resultList = []\n",
        "    row = \"\"\n",
        "    \n",
        "    for symbol in text:\n",
        "        if symbol not in whitespaces:\n",
        "            row += symbol\n",
        "        elif row != \"\":\n",
        "            resultList.append(row)\n",
        "            row = \"\"\n",
        "        \n",
        "    return resultList"
      ],
      "execution_count": 1,
      "outputs": []
    }
  ]
}